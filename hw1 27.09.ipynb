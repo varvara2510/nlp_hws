{
 "cells": [
  {
   "cell_type": "markdown",
   "metadata": {
    "id": "P8mgsI4amSap"
   },
   "source": [
    "## Установка и импорт библиотек"
   ]
  },
  {
   "cell_type": "code",
   "execution_count": null,
   "metadata": {
    "colab": {
     "base_uri": "https://localhost:8080/"
    },
    "id": "4-8XhUYuaqpA",
    "outputId": "82c1b66f-f1f1-4dc6-abec-86c771775b45"
   },
   "outputs": [
    {
     "name": "stdout",
     "output_type": "stream",
     "text": [
      "Looking in indexes: https://pypi.org/simple, https://us-python.pkg.dev/colab-wheels/public/simple/\n",
      "Collecting pymorphy2\n",
      "  Downloading pymorphy2-0.9.1-py3-none-any.whl (55 kB)\n",
      "\u001b[K     |████████████████████████████████| 55 kB 2.3 MB/s \n",
      "\u001b[?25hCollecting docopt>=0.6\n",
      "  Downloading docopt-0.6.2.tar.gz (25 kB)\n",
      "Collecting pymorphy2-dicts-ru<3.0,>=2.4\n",
      "  Downloading pymorphy2_dicts_ru-2.4.417127.4579844-py2.py3-none-any.whl (8.2 MB)\n",
      "\u001b[K     |████████████████████████████████| 8.2 MB 8.3 MB/s \n",
      "\u001b[?25hCollecting dawg-python>=0.7.1\n",
      "  Downloading DAWG_Python-0.7.2-py2.py3-none-any.whl (11 kB)\n",
      "Building wheels for collected packages: docopt\n",
      "  Building wheel for docopt (setup.py) ... \u001b[?25l\u001b[?25hdone\n",
      "  Created wheel for docopt: filename=docopt-0.6.2-py2.py3-none-any.whl size=13723 sha256=53adaf4723aa39268921b4f2ee13cc7141a98be09c7b72f91f2536dfd2c23187\n",
      "  Stored in directory: /root/.cache/pip/wheels/72/b0/3f/1d95f96ff986c7dfffe46ce2be4062f38ebd04b506c77c81b9\n",
      "Successfully built docopt\n",
      "Installing collected packages: pymorphy2-dicts-ru, docopt, dawg-python, pymorphy2\n",
      "Successfully installed dawg-python-0.7.2 docopt-0.6.2 pymorphy2-0.9.1 pymorphy2-dicts-ru-2.4.417127.4579844\n"
     ]
    }
   ],
   "source": [
    "!pip install pymorphy2"
   ]
  },
  {
   "cell_type": "code",
   "execution_count": null,
   "metadata": {
    "colab": {
     "base_uri": "https://localhost:8080/"
    },
    "id": "nii1aQ-RZUMj",
    "outputId": "ea727695-925c-4c0e-bcfe-e4619417d937"
   },
   "outputs": [
    {
     "name": "stderr",
     "output_type": "stream",
     "text": [
      "[nltk_data] Downloading package punkt to /root/nltk_data...\n",
      "[nltk_data]   Package punkt is already up-to-date!\n",
      "[nltk_data] Downloading package stopwords to /root/nltk_data...\n",
      "[nltk_data]   Package stopwords is already up-to-date!\n"
     ]
    }
   ],
   "source": [
    "import nltk\n",
    "from nltk.tokenize import word_tokenize\n",
    "from nltk.corpus import stopwords\n",
    "import pymorphy2\n",
    "from collections import Counter\n",
    "import re\n",
    "\n",
    "nltk.download('punkt')\n",
    "nltk.download(\"stopwords\")\n",
    "russian_stopwords = stopwords.words(\"russian\")"
   ]
  },
  {
   "cell_type": "markdown",
   "metadata": {
    "id": "2gLH3D1amaWq"
   },
   "source": [
    "## Сбор данных"
   ]
  },
  {
   "cell_type": "code",
   "execution_count": 84,
   "metadata": {
    "id": "dkubKkz_wR32"
   },
   "outputs": [],
   "source": [
    "import requests\n",
    "from bs4 import BeautifulSoup\n",
    "import time"
   ]
  },
  {
   "cell_type": "code",
   "execution_count": 85,
   "metadata": {
    "id": "xR7WlZS_wWLs"
   },
   "outputs": [],
   "source": [
    "url_bad = 'https://www.kinopoisk.ru/film/263531/reviews/?status=bad&ord=rating&rnd=1664480428&perpage=100'\n",
    "url_good = 'https://www.kinopoisk.ru/film/263531/reviews/?status=good&ord=rating&rnd=1664480443&perpage=100'\n",
    "\n",
    "r_bad = requests.get(url_bad)\n",
    "\n",
    "time.sleep(60)\n",
    "\n",
    "r_good = requests.get(url_good)"
   ]
  },
  {
   "cell_type": "code",
   "execution_count": 86,
   "metadata": {
    "id": "89ugGIP0xiEs"
   },
   "outputs": [],
   "source": [
    "def get_reviews(response):\n",
    "    soup = BeautifulSoup(response.text, 'lxml')\n",
    "    tags = soup.find_all('div', class_='reviewItem userReview')\n",
    "\n",
    "    assert len(tags) > 0\n",
    "    reviews = []\n",
    "    for tag in tags:\n",
    "        reviews.append(tag.find('div', class_='brand_words').find('span', class_=\"_reachbanner_\").text)\n",
    "    return reviews"
   ]
  },
  {
   "cell_type": "code",
   "execution_count": 100,
   "metadata": {
    "id": "xGwnjl6Bzms8"
   },
   "outputs": [],
   "source": [
    "bad_reviews = get_reviews(r_bad)\n",
    "good_reviews = get_reviews(r_good)"
   ]
  },
  {
   "cell_type": "code",
   "execution_count": 91,
   "metadata": {
    "colab": {
     "base_uri": "https://localhost:8080/"
    },
    "id": "7XdU-P1vztuT",
    "outputId": "914127f3-5bdc-4c56-fa89-683a7cec347c"
   },
   "outputs": [
    {
     "data": {
      "text/plain": [
       "(87, 100)"
      ]
     },
     "execution_count": 91,
     "metadata": {},
     "output_type": "execute_result"
    }
   ],
   "source": [
    "len(bad_reviews), len(good_reviews)"
   ]
  },
  {
   "cell_type": "code",
   "execution_count": 101,
   "metadata": {
    "id": "AhmZ2Rkr1Y9a"
   },
   "outputs": [],
   "source": [
    "with open('marvel_bad_reviews.txt', 'w') as f:\n",
    "    for review in bad_reviews:\n",
    "        f.write(review)\n",
    "\n",
    "with open('marvel_good_reviews.txt', 'w') as f:\n",
    "    for review in good_reviews:\n",
    "        f.write(review)"
   ]
  },
  {
   "cell_type": "markdown",
   "metadata": {
    "id": "j8U0K8QA1I8A"
   },
   "source": [
    "## Делим на train/test подвыборки"
   ]
  },
  {
   "cell_type": "code",
   "execution_count": 92,
   "metadata": {
    "id": "0IAHuZfPz4iV"
   },
   "outputs": [],
   "source": [
    "from sklearn.model_selection import train_test_split\n",
    "\n",
    "good_reviews = good_reviews[:87]\n",
    "\n",
    "bad_reviews_train, bad_reviews_test = train_test_split(bad_reviews, test_size=0.2, random_state=42)\n",
    "good_reviews_train, good_reviews_test = train_test_split(good_reviews, test_size=0.2, random_state=42)"
   ]
  },
  {
   "cell_type": "markdown",
   "metadata": {
    "id": "AJghcryNmjn2"
   },
   "source": [
    "## Основная часть"
   ]
  },
  {
   "cell_type": "code",
   "execution_count": 94,
   "metadata": {
    "id": "FJ4enxDPZlXD"
   },
   "outputs": [],
   "source": [
    "morph = pymorphy2.MorphAnalyzer()\n",
    "\n",
    "\n",
    "def preprocess(reviews, filter=True, threshold=2):\n",
    "    \"\"\"\n",
    "    принимает отзывы и возвращает множество начальных форм слов, \n",
    "    которые входят в эти отзывы\n",
    "    \"\"\"\n",
    "    reviews_str = ' '.join(reviews)\n",
    "    reviews_str = reviews_str.lower()\n",
    "\n",
    "    cleaner = re.compile('<.*?>|&([a-z0-9]+|#[0-9]{1,6}|#x[0-9a-f]{1,6});')\n",
    "    reviews_str = re.sub(cleaner, '', reviews_str)\n",
    "    reviews_str = re.sub('\\n', ' ', reviews_str)\n",
    "    reviews_str = re.sub('\\r', '', reviews_str)\n",
    "\n",
    "    tokens = word_tokenize(reviews_str)\n",
    "    tokens = [t for t in tokens if t not in russian_stopwords]\n",
    "    \n",
    "    lemmas = [morph.parse(t)[0].normal_form for t in tokens]\n",
    "    if filter:\n",
    "        counter = Counter(lemmas)\n",
    "        lemmas = [l for l in lemmas if counter[l] >= threshold]\n",
    "    return set(lemmas)"
   ]
  },
  {
   "cell_type": "code",
   "execution_count": 95,
   "metadata": {
    "id": "kLqNKp7Nb7dh"
   },
   "outputs": [],
   "source": [
    "good_lemmas = preprocess(good_reviews_train)\n",
    "bad_lemmas = preprocess(bad_reviews_train)"
   ]
  },
  {
   "cell_type": "code",
   "execution_count": 96,
   "metadata": {
    "id": "QPUG2KnpcrYi"
   },
   "outputs": [],
   "source": [
    "only_good_words = good_lemmas - bad_lemmas\n",
    "only_bad_words = bad_lemmas - good_lemmas"
   ]
  },
  {
   "cell_type": "code",
   "execution_count": 97,
   "metadata": {
    "id": "tSurKgVhfG2h"
   },
   "outputs": [],
   "source": [
    "def predict(review):\n",
    "    \"\"\"\n",
    "    возвращает '+' если предсказывает, что положительный\n",
    "    '-' иначе\n",
    "    \"\"\"\n",
    "    bad_counter, good_counter = 0, 0\n",
    "    lemmas = preprocess([review])\n",
    "    for lemma in lemmas:\n",
    "        if lemma in only_good_words:\n",
    "            good_counter += 1\n",
    "        elif lemma in only_bad_words:\n",
    "            bad_counter += 1\n",
    "    if good_counter > bad_counter:\n",
    "        return '+'\n",
    "    return '-'"
   ]
  },
  {
   "cell_type": "code",
   "execution_count": 98,
   "metadata": {
    "id": "tcTklRbPjUq3"
   },
   "outputs": [],
   "source": [
    "def calculate_accuracy(good_test, bad_test):\n",
    "    correct = 0\n",
    "    for review in good_test:\n",
    "        if predict(review) == '+':\n",
    "            correct += 1\n",
    "    for review in bad_test:\n",
    "        if predict(review) == '-':\n",
    "            correct += 1\n",
    "    return float(correct) / (len(good_test) + len(bad_test))"
   ]
  },
  {
   "cell_type": "code",
   "execution_count": 99,
   "metadata": {
    "colab": {
     "base_uri": "https://localhost:8080/"
    },
    "id": "Mp5Cgk9XkAQy",
    "outputId": "8cd53ad6-543e-4150-d3c8-04bc3eb5eab6"
   },
   "outputs": [
    {
     "data": {
      "text/plain": [
       "0.6666666666666666"
      ]
     },
     "execution_count": 99,
     "metadata": {},
     "output_type": "execute_result"
    }
   ],
   "source": [
    "calculate_accuracy(good_reviews_test, bad_reviews_test)"
   ]
  },
  {
   "cell_type": "markdown",
   "metadata": {
    "id": "MmmVLd6Sk6yG"
   },
   "source": [
    "*последний пункт: мулька номер один это добыть больше данных богу данных....*"
   ]
  }
 ],
 "metadata": {
  "colab": {
   "collapsed_sections": [],
   "provenance": []
  },
  "kernelspec": {
   "display_name": "Python 3",
   "language": "python",
   "name": "python3"
  },
  "language_info": {
   "codemirror_mode": {
    "name": "ipython",
    "version": 3
   },
   "file_extension": ".py",
   "mimetype": "text/x-python",
   "name": "python",
   "nbconvert_exporter": "python",
   "pygments_lexer": "ipython3",
   "version": "3.8.10"
  }
 },
 "nbformat": 4,
 "nbformat_minor": 1
}
